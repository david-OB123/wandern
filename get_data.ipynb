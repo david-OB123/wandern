{
 "cells": [
  {
   "cell_type": "code",
   "execution_count": 1,
   "id": "e95ed734",
   "metadata": {},
   "outputs": [],
   "source": [
    "import gpxpy\n",
    "import pandas as pd\n",
    "import folium"
   ]
  },
  {
   "cell_type": "code",
   "execution_count": 2,
   "id": "e00fa9f1",
   "metadata": {},
   "outputs": [],
   "source": [
    "def read_gpx_track(filepath: str) -> pd.DataFrame:\n",
    "    #\n",
    "    gpx_file = open(filepath, 'r')\n",
    "    gpx = gpxpy.parse(gpx_file)\n",
    "    #\n",
    "    res = []\n",
    "    for track in gpx.tracks:\n",
    "        for segment in track.segments:\n",
    "            for point in segment.points:\n",
    "                res.append([point.latitude, point.longitude, point.elevation])\n",
    "    #\n",
    "    return pd.DataFrame(res, columns=['latitude', 'longitude', 'elevation'])\n",
    "\n",
    "track = read_gpx_track(filepath='../BRA3.gpx')\n",
    "# display(track)\n",
    "track.to_parquet('data.parquet')"
   ]
  }
 ],
 "metadata": {
  "kernelspec": {
   "display_name": "Python 3",
   "language": "python",
   "name": "python3"
  },
  "language_info": {
   "codemirror_mode": {
    "name": "ipython",
    "version": 3
   },
   "file_extension": ".py",
   "mimetype": "text/x-python",
   "name": "python",
   "nbconvert_exporter": "python",
   "pygments_lexer": "ipython3",
   "version": "3.13.3"
  }
 },
 "nbformat": 4,
 "nbformat_minor": 5
}
